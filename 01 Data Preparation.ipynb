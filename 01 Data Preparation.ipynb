{
 "cells": [
  {
   "cell_type": "code",
   "execution_count": 7,
   "metadata": {},
   "outputs": [],
   "source": [
    "import os, sys\n",
    "import time\n",
    "import datetime\n",
    "import pandas as pd\n",
    "import numpy as np\n",
    "import math\n",
    "from math import radians, cos, sin, asin, sqrt \n",
    "import random\n",
    "\n",
    "from scipy.spatial import ConvexHull\n",
    "\n",
    "import folium\n",
    "\n",
    "import geopandas as gp\n",
    "\n",
    "import h3\n"
   ]
  },
  {
   "cell_type": "code",
   "execution_count": 8,
   "metadata": {},
   "outputs": [],
   "source": [
    "def Convert_gps(POLYLINE):\n",
    "    \n",
    "    sample_trajectory=[[float(s) for s in seg.split(',')][::-1] for seg in str(POLYLINE).replace(']]','').replace('[','').split('],')]\n",
    "    \n",
    "    return sample_trajectory\n",
    "\n",
    "def Convert_grid(Trajectory):\n",
    "    \n",
    "    sample_grid=[h3.geo_to_h3(x[0], x[1], 10) for x in Trajectory]\n",
    "    \n",
    "    i=1\n",
    "    \n",
    "    while i<len(sample_grid):\n",
    "        \n",
    "        if sample_grid[i]==sample_grid[i-1]:\n",
    "            \n",
    "            sample_grid.pop(i)\n",
    "            \n",
    "        else:\n",
    "            \n",
    "            i+=1\n",
    "        \n",
    "    \n",
    "    return sample_grid\n",
    "\n",
    "def Convert_Geometry(Grids):\n",
    "    \n",
    "    sample_geometry=list()\n",
    "    \n",
    "    for grid in Grids:\n",
    "        \n",
    "        geometry=list()\n",
    "    \n",
    "        for x in h3.h3_to_geo_boundary(grid):\n",
    "            \n",
    "            geometry.append([float(x[1]),float(x[0])])\n",
    "            \n",
    "        sample_geometry.append(geometry)\n",
    "            \n",
    "    return sample_geometry\n"
   ]
  },
  {
   "cell_type": "code",
   "execution_count": 9,
   "metadata": {},
   "outputs": [
    {
     "data": {
      "text/html": [
       "<div>\n",
       "<style scoped>\n",
       "    .dataframe tbody tr th:only-of-type {\n",
       "        vertical-align: middle;\n",
       "    }\n",
       "\n",
       "    .dataframe tbody tr th {\n",
       "        vertical-align: top;\n",
       "    }\n",
       "\n",
       "    .dataframe thead th {\n",
       "        text-align: right;\n",
       "    }\n",
       "</style>\n",
       "<table border=\"1\" class=\"dataframe\">\n",
       "  <thead>\n",
       "    <tr style=\"text-align: right;\">\n",
       "      <th></th>\n",
       "      <th>TRIP_ID</th>\n",
       "      <th>Grids</th>\n",
       "      <th>Geometry</th>\n",
       "    </tr>\n",
       "  </thead>\n",
       "  <tbody>\n",
       "    <tr>\n",
       "      <th>0</th>\n",
       "      <td>1393036833620000179</td>\n",
       "      <td>[8a39220f1d0ffff, 8a39220f1c27fff, 8a39220f1c3...</td>\n",
       "      <td>[[[-8.607852791813833, 41.15821438664012], [-8...</td>\n",
       "    </tr>\n",
       "  </tbody>\n",
       "</table>\n",
       "</div>"
      ],
      "text/plain": [
       "               TRIP_ID                                              Grids  \\\n",
       "0  1393036833620000179  [8a39220f1d0ffff, 8a39220f1c27fff, 8a39220f1c3...   \n",
       "\n",
       "                                            Geometry  \n",
       "0  [[[-8.607852791813833, 41.15821438664012], [-8...  "
      ]
     },
     "execution_count": 9,
     "metadata": {},
     "output_type": "execute_result"
    }
   ],
   "source": [
    "df_whole=pd.read_csv('data/train.csv')\n",
    "\n",
    "df_sample=df_whole.sample(frac=0.01)\n",
    "\n",
    "df=df_sample.reset_index(drop=True)\n",
    "\n",
    "df=df.iloc[:1]\n",
    "\n",
    "df=df[['TRIP_ID','POLYLINE']]\n",
    "\n",
    "df=df[df['POLYLINE']!='[]']\n",
    "\n",
    "df['Trajectory']=df.apply(lambda x:Convert_gps(x['POLYLINE']),axis=1)\n",
    "\n",
    "df['Grids']=df.apply(lambda x:Convert_grid(x['Trajectory']),axis=1)\n",
    "\n",
    "df['Geometry']=df.apply(lambda x:Convert_Geometry(x['Grids']),axis=1)\n",
    "\n",
    "df = df[['TRIP_ID','Grids','Geometry']]\n",
    "\n",
    "df\n",
    "\n"
   ]
  },
  {
   "cell_type": "code",
   "execution_count": 10,
   "metadata": {},
   "outputs": [
    {
     "data": {
      "text/html": [
       "<div style=\"width:100%;\"><div style=\"position:relative;width:100%;height:0;padding-bottom:60%;\"><span style=\"color:#565656\">Make this Notebook Trusted to load map: File -> Trust Notebook</span><iframe src=\"about:blank\" style=\"position:absolute;width:100%;height:100%;left:0;top:0;border:none !important;\" data-html=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 onload=\"this.contentDocument.open();this.contentDocument.write(atob(this.getAttribute('data-html')));this.contentDocument.close();\" allowfullscreen webkitallowfullscreen mozallowfullscreen></iframe></div></div>"
      ],
      "text/plain": [
       "<folium.folium.Map at 0x823d47518>"
      ]
     },
     "execution_count": 10,
     "metadata": {},
     "output_type": "execute_result"
    }
   ],
   "source": [
    "GeoData=list()\n",
    "         \n",
    "for idx,row in df.iterrows():\n",
    "    \n",
    "    for i in range(len(row['Grids'])):\n",
    "    \n",
    "        GeoData.append({\"type\":\"Feature\",\\\n",
    "                        \"id\":row['Grids'][i],\\\n",
    "                        \"geometry\":{\"type\":\"Polygon\",\\\n",
    "                                    \"coordinates\":[row['Geometry'][i]]\n",
    "                                   }\n",
    "                       })\n",
    "    \n",
    "GeoJson={\"type\":\"FeatureCollection\",\"features\":GeoData}\n",
    "\n",
    "\n",
    "\n",
    "\n",
    "background = folium.Map([41.148738, -8.612091],tiles='CartoDB positron',zoom_start=12)\n",
    "\n",
    "'''Zones'''\n",
    "\n",
    "choropleth1 =folium.Choropleth(\n",
    "    geo_data=GeoJson,\n",
    "    fill_color='red',\n",
    "    fill_opacity=0.5,\n",
    "    name='Zone').add_to(background)\n",
    "\n",
    "folium.LayerControl().add_to(background)\n",
    "\n",
    "background\n",
    "\n"
   ]
  },
  {
   "cell_type": "code",
   "execution_count": null,
   "metadata": {},
   "outputs": [],
   "source": []
  }
 ],
 "metadata": {
  "kernelspec": {
   "display_name": "Python 3",
   "language": "python",
   "name": "python3"
  },
  "language_info": {
   "codemirror_mode": {
    "name": "ipython",
    "version": 3
   },
   "file_extension": ".py",
   "mimetype": "text/x-python",
   "name": "python",
   "nbconvert_exporter": "python",
   "pygments_lexer": "ipython3",
   "version": "3.7.3"
  }
 },
 "nbformat": 4,
 "nbformat_minor": 2
}
